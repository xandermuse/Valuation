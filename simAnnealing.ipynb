{
 "cells": [
  {
   "cell_type": "code",
   "execution_count": 6,
   "metadata": {},
   "outputs": [],
   "source": [
    "import pandas as pd\n",
    "import numpy as np\n",
    "import matplotlib.pyplot as plt\n",
    "from fbprophet import Prophet\n",
    "import yfinance as yf\n",
    "import datetime\n"
   ]
  },
  {
   "cell_type": "code",
   "execution_count": 7,
   "metadata": {},
   "outputs": [
    {
     "ename": "KeyError",
     "evalue": "'ds'",
     "output_type": "error",
     "traceback": [
      "\u001b[1;31m---------------------------------------------------------------------------\u001b[0m",
      "\u001b[1;31mKeyError\u001b[0m                                  Traceback (most recent call last)",
      "File \u001b[1;32mc:\\Users\\xande\\anaconda3\\lib\\site-packages\\pandas\\core\\indexes\\base.py:3802\u001b[0m, in \u001b[0;36mIndex.get_loc\u001b[1;34m(self, key, method, tolerance)\u001b[0m\n\u001b[0;32m   3801\u001b[0m \u001b[39mtry\u001b[39;00m:\n\u001b[1;32m-> 3802\u001b[0m     \u001b[39mreturn\u001b[39;00m \u001b[39mself\u001b[39;49m\u001b[39m.\u001b[39;49m_engine\u001b[39m.\u001b[39;49mget_loc(casted_key)\n\u001b[0;32m   3803\u001b[0m \u001b[39mexcept\u001b[39;00m \u001b[39mKeyError\u001b[39;00m \u001b[39mas\u001b[39;00m err:\n",
      "File \u001b[1;32mc:\\Users\\xande\\anaconda3\\lib\\site-packages\\pandas\\_libs\\index.pyx:138\u001b[0m, in \u001b[0;36mpandas._libs.index.IndexEngine.get_loc\u001b[1;34m()\u001b[0m\n",
      "File \u001b[1;32mc:\\Users\\xande\\anaconda3\\lib\\site-packages\\pandas\\_libs\\index.pyx:165\u001b[0m, in \u001b[0;36mpandas._libs.index.IndexEngine.get_loc\u001b[1;34m()\u001b[0m\n",
      "File \u001b[1;32mpandas\\_libs\\hashtable_class_helper.pxi:5745\u001b[0m, in \u001b[0;36mpandas._libs.hashtable.PyObjectHashTable.get_item\u001b[1;34m()\u001b[0m\n",
      "File \u001b[1;32mpandas\\_libs\\hashtable_class_helper.pxi:5753\u001b[0m, in \u001b[0;36mpandas._libs.hashtable.PyObjectHashTable.get_item\u001b[1;34m()\u001b[0m\n",
      "\u001b[1;31mKeyError\u001b[0m: 'ds'",
      "\nThe above exception was the direct cause of the following exception:\n",
      "\u001b[1;31mKeyError\u001b[0m                                  Traceback (most recent call last)",
      "Cell \u001b[1;32mIn[7], line 46\u001b[0m\n\u001b[0;32m     43\u001b[0m     plt\u001b[39m.\u001b[39mshow()\n\u001b[0;32m     45\u001b[0m tickerList \u001b[39m=\u001b[39m [\u001b[39m'\u001b[39m\u001b[39mAAPL\u001b[39m\u001b[39m'\u001b[39m, \u001b[39m'\u001b[39m\u001b[39mMSFT\u001b[39m\u001b[39m'\u001b[39m, \u001b[39m'\u001b[39m\u001b[39mGOOG\u001b[39m\u001b[39m'\u001b[39m, \u001b[39m'\u001b[39m\u001b[39mAMZN\u001b[39m\u001b[39m'\u001b[39m]\n\u001b[1;32m---> 46\u001b[0m runHyper(tickerList)\n",
      "Cell \u001b[1;32mIn[7], line 9\u001b[0m, in \u001b[0;36mrunHyper\u001b[1;34m(tickerList)\u001b[0m\n\u001b[0;32m      7\u001b[0m df \u001b[39m=\u001b[39m yf\u001b[39m.\u001b[39mdownload(ticker, start\u001b[39m=\u001b[39m\u001b[39m'\u001b[39m\u001b[39m2015-01-01\u001b[39m\u001b[39m'\u001b[39m, end\u001b[39m=\u001b[39m today, progress\u001b[39m=\u001b[39m\u001b[39mFalse\u001b[39;00m)\n\u001b[0;32m      8\u001b[0m df \u001b[39m=\u001b[39m df\u001b[39m.\u001b[39mrename(columns\u001b[39m=\u001b[39m{\u001b[39m'\u001b[39m\u001b[39mDate\u001b[39m\u001b[39m'\u001b[39m: \u001b[39m'\u001b[39m\u001b[39mds\u001b[39m\u001b[39m'\u001b[39m, \u001b[39m'\u001b[39m\u001b[39mAdj Close\u001b[39m\u001b[39m'\u001b[39m: \u001b[39m'\u001b[39m\u001b[39my\u001b[39m\u001b[39m'\u001b[39m})\n\u001b[1;32m----> 9\u001b[0m df[\u001b[39m'\u001b[39m\u001b[39mds\u001b[39m\u001b[39m'\u001b[39m] \u001b[39m=\u001b[39m pd\u001b[39m.\u001b[39mto_datetime(df[\u001b[39m'\u001b[39;49m\u001b[39mds\u001b[39;49m\u001b[39m'\u001b[39;49m])\n\u001b[0;32m     11\u001b[0m \u001b[39m# Split the data into training and testing sets\u001b[39;00m\n\u001b[0;32m     12\u001b[0m train_df \u001b[39m=\u001b[39m df[df[\u001b[39m'\u001b[39m\u001b[39mds\u001b[39m\u001b[39m'\u001b[39m] \u001b[39m<\u001b[39m \u001b[39m'\u001b[39m\u001b[39m2021-01-01\u001b[39m\u001b[39m'\u001b[39m]\n",
      "File \u001b[1;32mc:\\Users\\xande\\anaconda3\\lib\\site-packages\\pandas\\core\\frame.py:3807\u001b[0m, in \u001b[0;36mDataFrame.__getitem__\u001b[1;34m(self, key)\u001b[0m\n\u001b[0;32m   3805\u001b[0m \u001b[39mif\u001b[39;00m \u001b[39mself\u001b[39m\u001b[39m.\u001b[39mcolumns\u001b[39m.\u001b[39mnlevels \u001b[39m>\u001b[39m \u001b[39m1\u001b[39m:\n\u001b[0;32m   3806\u001b[0m     \u001b[39mreturn\u001b[39;00m \u001b[39mself\u001b[39m\u001b[39m.\u001b[39m_getitem_multilevel(key)\n\u001b[1;32m-> 3807\u001b[0m indexer \u001b[39m=\u001b[39m \u001b[39mself\u001b[39;49m\u001b[39m.\u001b[39;49mcolumns\u001b[39m.\u001b[39;49mget_loc(key)\n\u001b[0;32m   3808\u001b[0m \u001b[39mif\u001b[39;00m is_integer(indexer):\n\u001b[0;32m   3809\u001b[0m     indexer \u001b[39m=\u001b[39m [indexer]\n",
      "File \u001b[1;32mc:\\Users\\xande\\anaconda3\\lib\\site-packages\\pandas\\core\\indexes\\base.py:3804\u001b[0m, in \u001b[0;36mIndex.get_loc\u001b[1;34m(self, key, method, tolerance)\u001b[0m\n\u001b[0;32m   3802\u001b[0m     \u001b[39mreturn\u001b[39;00m \u001b[39mself\u001b[39m\u001b[39m.\u001b[39m_engine\u001b[39m.\u001b[39mget_loc(casted_key)\n\u001b[0;32m   3803\u001b[0m \u001b[39mexcept\u001b[39;00m \u001b[39mKeyError\u001b[39;00m \u001b[39mas\u001b[39;00m err:\n\u001b[1;32m-> 3804\u001b[0m     \u001b[39mraise\u001b[39;00m \u001b[39mKeyError\u001b[39;00m(key) \u001b[39mfrom\u001b[39;00m \u001b[39merr\u001b[39;00m\n\u001b[0;32m   3805\u001b[0m \u001b[39mexcept\u001b[39;00m \u001b[39mTypeError\u001b[39;00m:\n\u001b[0;32m   3806\u001b[0m     \u001b[39m# If we have a listlike key, _check_indexing_error will raise\u001b[39;00m\n\u001b[0;32m   3807\u001b[0m     \u001b[39m#  InvalidIndexError. Otherwise we fall through and re-raise\u001b[39;00m\n\u001b[0;32m   3808\u001b[0m     \u001b[39m#  the TypeError.\u001b[39;00m\n\u001b[0;32m   3809\u001b[0m     \u001b[39mself\u001b[39m\u001b[39m.\u001b[39m_check_indexing_error(key)\n",
      "\u001b[1;31mKeyError\u001b[0m: 'ds'"
     ]
    }
   ],
   "source": [
    "\n",
    "def runHyper(tickerList):\n",
    "    best_params = {}\n",
    "    best_log_likelihood = -1000000000\n",
    "    today = datetime.date.today()\n",
    "\n",
    "    for ticker in tickerList:\n",
    "        df = yf.download(ticker, start='2015-01-01', end= today, progress=False)\n",
    "        df = df.rename(columns={'Date': 'ds', 'Adj Close': 'y'})\n",
    "        df['ds'] = pd.to_datetime(df['ds'])\n",
    "\n",
    "        # Split the data into training and testing sets\n",
    "        train_df = df[df['ds'] < '2021-01-01']\n",
    "        test_df = df[df['ds'] >= '2021-01-01']\n",
    "\n",
    "        # Perform hyperparameter tuning\n",
    "        for growth in ['linear', 'logistic']:\n",
    "            for changepoint_prior_scale in [0.01, 0.05, 0.1, 0.5, 1]:\n",
    "                for n_changepoints in [5, 10, 25, 50, 100]:\n",
    "                    model = Prophet(\n",
    "                        growth=growth,\n",
    "                        changepoint_prior_scale=changepoint_prior_scale,\n",
    "                        n_changepoints=n_changepoints\n",
    "                    )\n",
    "                    model.fit(train_df)\n",
    "\n",
    "                    future = model.make_future_dataframe(periods=365)\n",
    "                    forecast = model.predict(future)\n",
    "                    log_likelihood = model.log_likelihood_baseline_only()\n",
    "                    if log_likelihood > best_log_likelihood:\n",
    "                        best_log_likelihood = log_likelihood\n",
    "                        best_params = {\n",
    "                            'growth': growth,\n",
    "                            'changepoint_prior_scale': changepoint_prior_scale,\n",
    "                            'n_changepoints': n_changepoints\n",
    "                        }\n",
    "                        best_model = model\n",
    "                        best_forecast = forecast\n",
    "\n",
    "    # Plot the forecast using the best model\n",
    "    plt.figure(figsize=(10, 7))\n",
    "    best_model.plot(best_forecast, xlabel='Date', ylabel='Adj Close')\n",
    "    plt.title(f'{ticker} Stock Price Forecast (Best Model)')\n",
    "    plt.show()\n",
    "\n",
    "tickerList = ['AAPL', 'MSFT', 'GOOG', 'AMZN']\n",
    "runHyper(tickerList)"
   ]
  },
  {
   "cell_type": "code",
   "execution_count": null,
   "metadata": {},
   "outputs": [],
   "source": []
  }
 ],
 "metadata": {
  "kernelspec": {
   "display_name": "base",
   "language": "python",
   "name": "python3"
  },
  "language_info": {
   "codemirror_mode": {
    "name": "ipython",
    "version": 3
   },
   "file_extension": ".py",
   "mimetype": "text/x-python",
   "name": "python",
   "nbconvert_exporter": "python",
   "pygments_lexer": "ipython3",
   "version": "3.8.15"
  },
  "orig_nbformat": 4,
  "vscode": {
   "interpreter": {
    "hash": "d5f483b18828d96ccc546c1798c82b7647d044a18d38c4ebbbd467c365e433ca"
   }
  }
 },
 "nbformat": 4,
 "nbformat_minor": 2
}
