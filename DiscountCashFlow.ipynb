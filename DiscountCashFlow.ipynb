{
 "cells": [
  {
   "attachments": {},
   "cell_type": "markdown",
   "metadata": {},
   "source": [
    "# what is Discount Cash Flow?"
   ]
  },
  {
   "attachments": {},
   "cell_type": "markdown",
   "metadata": {},
   "source": [
    "### NPV and IRR"
   ]
  },
  {
   "attachments": {},
   "cell_type": "markdown",
   "metadata": {},
   "source": [
    "#### Net Present Value (NPV) and Internal Rate of Return (IRR)\n",
    "\n",
    "- two methods used to evaluate the profitability of an investment. Both methods use the same input data and are used together to evaluate investment opportunities and make informed investment decisions.\n",
    "\n",
    "#### python Doc\n",
    "\n",
    "- https://numpy.org/numpy-financial/latest/npv.html\n",
    "    - Returns the NPV (Net Present Value) of a cash flow series. Given a series of cash flows (values) and a discount rate (rate), the NPV is the sum of the present values of each cash flow. The present value of a single cash flow is the value of that cash flow divided by one plus the discount rate raised to the power of the number of periods elapsed. The number of periods elapsed is the number of times that the discount rate is applied. The discount rate is applied once per period. The discount rate is typically expressed as an annual rate, but can be any frequency. The number of periods is typically expressed in years, but can be any unit of time.\n",
    "\n",
    "\n",
    "\n",
    "#### data used in NPV and IRR calculations\n",
    "\n",
    "- Cash flow projections: A detailed estimate of the expected cash inflows and outflows from the investment over time. This includes the initial investment, operational expenses, and expected revenue.\n",
    "\n",
    "- Discount rate: The rate at which future cash flows are discounted to present value, taking into account the time value of money and the risk associated with the investment.\n",
    "\n",
    "- Time frame: The period of time over which the investment is expected to generate cash flows. This information is used to calculate the present value of future cash flows.\n",
    "\n",
    "The main difference between NPV and IRR calculations is the output they provide. NPV provides the present value of future cash flows, while IRR provides the discount rate that makes the NPV equal to zero. Both NPV and IRR use the same input data and are used together to evaluate investment opportunities and make informed investment decisions."
   ]
  },
  {
   "cell_type": "code",
   "execution_count": 3,
   "metadata": {},
   "outputs": [
    {
     "name": "stdout",
     "output_type": "stream",
     "text": [
      "Collecting numpy-financial\n",
      "  Downloading numpy_financial-1.0.0-py3-none-any.whl (14 kB)\n",
      "Requirement already satisfied: numpy>=1.15 in c:\\users\\xande\\anaconda3\\lib\\site-packages (from numpy-financial) (1.23.5)\n",
      "Installing collected packages: numpy-financial\n",
      "Successfully installed numpy-financial-1.0.0\n"
     ]
    }
   ],
   "source": [
    "! pip install numpy-financial"
   ]
  },
  {
   "cell_type": "code",
   "execution_count": 4,
   "metadata": {},
   "outputs": [
    {
     "data": {
      "text/plain": [
       "'1.0.0'"
      ]
     },
     "execution_count": 4,
     "metadata": {},
     "output_type": "execute_result"
    }
   ],
   "source": [
    "import numpy_financial as npf\n",
    "npf.__version__"
   ]
  },
  {
   "cell_type": "code",
   "execution_count": 5,
   "metadata": {},
   "outputs": [
    {
     "data": {
      "text/plain": [
       "['fv', 'ipmt', 'irr', 'mirr', 'nper', 'npv', 'pmt', 'ppmt', 'pv', 'rate']"
      ]
     },
     "execution_count": 5,
     "metadata": {},
     "output_type": "execute_result"
    }
   ],
   "source": [
    "[function for function in dir(npf) if not function.startswith('_')]"
   ]
  },
  {
   "cell_type": "code",
   "execution_count": 6,
   "metadata": {},
   "outputs": [
    {
     "name": "stdout",
     "output_type": "stream",
     "text": [
      "Help on function npv in module numpy_financial._financial:\n",
      "\n",
      "npv(rate, values)\n",
      "    Returns the NPV (Net Present Value) of a cash flow series.\n",
      "    \n",
      "    Parameters\n",
      "    ----------\n",
      "    rate : scalar\n",
      "        The discount rate.\n",
      "    values : array_like, shape(M, )\n",
      "        The values of the time series of cash flows.  The (fixed) time\n",
      "        interval between cash flow \"events\" must be the same as that for\n",
      "        which `rate` is given (i.e., if `rate` is per year, then precisely\n",
      "        a year is understood to elapse between each cash flow event).  By\n",
      "        convention, investments or \"deposits\" are negative, income or\n",
      "        \"withdrawals\" are positive; `values` must begin with the initial\n",
      "        investment, thus `values[0]` will typically be negative.\n",
      "    \n",
      "    Returns\n",
      "    -------\n",
      "    out : float\n",
      "        The NPV of the input cash flow series `values` at the discount\n",
      "        `rate`.\n",
      "    \n",
      "    Warnings\n",
      "    --------\n",
      "    ``npv`` considers a series of cashflows starting in the present (t = 0).\n",
      "    NPV can also be defined with a series of future cashflows, paid at the\n",
      "    end, rather than the start, of each period. If future cashflows are used,\n",
      "    the first cashflow `values[0]` must be zeroed and added to the net\n",
      "    present value of the future cashflows. This is demonstrated in the\n",
      "    examples.\n",
      "    \n",
      "    Notes\n",
      "    -----\n",
      "    Returns the result of: [G]_\n",
      "    \n",
      "    .. math :: \\sum_{t=0}^{M-1}{\\frac{values_t}{(1+rate)^{t}}}\n",
      "    \n",
      "    References\n",
      "    ----------\n",
      "    .. [G] L. J. Gitman, \"Principles of Managerial Finance, Brief,\" 3rd ed.,\n",
      "       Addison-Wesley, 2003, pg. 346.\n",
      "    \n",
      "    Examples\n",
      "    --------\n",
      "    >>> import numpy as np\n",
      "    >>> import numpy_financial as npf\n",
      "    \n",
      "    Consider a potential project with an initial investment of $40 000 and\n",
      "    projected cashflows of $5 000, $8 000, $12 000 and $30 000 at the end of\n",
      "    each period discounted at a rate of 8% per period. To find the project's\n",
      "    net present value:\n",
      "    \n",
      "    >>> rate, cashflows = 0.08, [-40_000, 5_000, 8_000, 12_000, 30_000]\n",
      "    >>> npf.npv(rate, cashflows).round(5)\n",
      "    3065.22267\n",
      "    \n",
      "    It may be preferable to split the projected cashflow into an initial\n",
      "    investment and expected future cashflows. In this case, the value of\n",
      "    the initial cashflow is zero and the initial investment is later added\n",
      "    to the future cashflows net present value:\n",
      "    \n",
      "    >>> initial_cashflow = cashflows[0]\n",
      "    >>> cashflows[0] = 0\n",
      "    >>> np.round(npf.npv(rate, cashflows) + initial_cashflow, 5)\n",
      "    3065.22267\n",
      "\n"
     ]
    }
   ],
   "source": [
    "help(npf.npv)"
   ]
  },
  {
   "cell_type": "code",
   "execution_count": null,
   "metadata": {},
   "outputs": [],
   "source": []
  }
 ],
 "metadata": {
  "kernelspec": {
   "display_name": "base",
   "language": "python",
   "name": "python3"
  },
  "language_info": {
   "codemirror_mode": {
    "name": "ipython",
    "version": 3
   },
   "file_extension": ".py",
   "mimetype": "text/x-python",
   "name": "python",
   "nbconvert_exporter": "python",
   "pygments_lexer": "ipython3",
   "version": "3.8.15"
  },
  "orig_nbformat": 4,
  "vscode": {
   "interpreter": {
    "hash": "d5f483b18828d96ccc546c1798c82b7647d044a18d38c4ebbbd467c365e433ca"
   }
  }
 },
 "nbformat": 4,
 "nbformat_minor": 2
}
