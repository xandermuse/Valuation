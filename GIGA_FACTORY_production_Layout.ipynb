{
 "cells": [
  {
   "attachments": {},
   "cell_type": "markdown",
   "metadata": {},
   "source": [
    "## Factory Design and the traveling salesman\n",
    "\n",
    "### a look at A* when applied to the assembly line."
   ]
  },
  {
   "attachments": {},
   "cell_type": "markdown",
   "metadata": {},
   "source": [
    "#### What is Traveling Salesman Problem?\n",
    "\n",
    "- The Traveling Salesman Problem (TSP) is a classic optimization problem in computer science and operations research. The problem is to find the shortest possible route that visits a given set of cities and returns to the starting city. It's often used as a benchmark for testing and comparing the performance of optimization algorithms in AI."
   ]
  },
  {
   "attachments": {},
   "cell_type": "markdown",
   "metadata": {},
   "source": [
    "What is A*?\n",
    "- A* search is an informed search algorithm used for finding the shortest path between two points in a graph. It combines the strengths of uniform-cost search and best-first search algorithms by using a heuristic function that estimates the cost of reaching the goal state from a given state. The A* algorithm evaluates nodes by considering not only the cost of reaching the node but also the estimated cost of reaching the goal state from that node. This allows the algorithm to avoid exploring paths that are unlikely to lead to the goal and focus on paths that are more likely to find the optimal solution."
   ]
  },
  {
   "attachments": {},
   "cell_type": "markdown",
   "metadata": {},
   "source": [
    "What is the Factory?\n",
    "- A factory is a building or complex of buildings where goods are manufactured or assembled. It's a place where raw materials are transformed into finished products using a set of tools, machinery, and labor. Factories typically employ workers to perform various tasks such as assembly, packaging, and quality control. The purpose of a factory is to increase efficiency, reduce costs, and produce large quantities of goods."
   ]
  },
  {
   "attachments": {},
   "cell_type": "markdown",
   "metadata": {},
   "source": [
    "A* search can be applied to factory layout optimization in order to determine the most efficient arrangement of machinery, raw materials, and finished goods within the factory. The optimization problem can be represented as a graph, with nodes representing different potential configurations of the factory layout, and edges representing the costs or distances between these configurations.\n",
    "\n",
    "The A* algorithm can then be used to search for the optimal configuration of the factory layout, using a heuristic function that evaluates the estimated cost or distance of reaching the goal configuration from a given node. The algorithm expands nodes in the order of their estimated cost, prioritizing nodes that are more likely to lead to the optimal solution, and avoiding nodes that are less likely to be useful.\n",
    "\n",
    "The final solution obtained from the A* algorithm can represent the optimal factory layout, taking into account various constraints such as machinery placement, raw material flow, and safety requirements. The solution can then be used to guide the physical arrangement of the factory and its components, leading to improved efficiency, reduced costs, and increased productivity."
   ]
  },
  {
   "cell_type": "markdown",
   "metadata": {},
   "source": []
  },
  {
   "attachments": {},
   "cell_type": "markdown",
   "metadata": {},
   "source": [
    "## Gigafactory List"
   ]
  },
  {
   "attachments": {},
   "cell_type": "markdown",
   "metadata": {},
   "source": [
    "Factory Name | Location | Num empploy | Num gigapress | Product | 2022 units | revenue|\n",
    "---|---|----|----|----|----|----|\n",
    "[Gigafactory 1](https://www.tesla.com/giga-nevada) | Nevada | 7,000 | 0? |  |  |  |"
   ]
  },
  {
   "attachments": {},
   "cell_type": "markdown",
   "metadata": {},
   "source": [
    "#### Gigafactory 1\n",
    "\n",
    "location:\n",
    "size:\n",
    "launch date:\n",
    "Targeted production capacity:\n",
    "Target production rate:\n",
    "Products produced:\n",
    "Number of employees:\n",
    "Number of Gigapress machines:\n",
    "Number of assembly lines:\n",
    "\n",
    "Unique features:"
   ]
  },
  {
   "attachments": {},
   "cell_type": "markdown",
   "metadata": {},
   "source": [
    "#### Gigafactory 2\n",
    "\n",
    "location:\n",
    "size:\n",
    "launch date:\n",
    "Targeted production capacity:\n",
    "Target production rate:\n",
    "Products produced:\n",
    "Number of employees:\n",
    "Number of Gigapress machines:\n",
    "Number of assembly lines:\n",
    "\n",
    "Unique features:"
   ]
  },
  {
   "attachments": {},
   "cell_type": "markdown",
   "metadata": {},
   "source": [
    "#### Gigafactory 3\n",
    "\n",
    "location:\n",
    "size:\n",
    "launch date:\n",
    "Targeted production capacity:\n",
    "Target production rate:\n",
    "Products produced:\n",
    "Number of employees:\n",
    "Number of Gigapress machines:\n",
    "Number of assembly lines:\n",
    "\n",
    "Unique features:"
   ]
  },
  {
   "attachments": {},
   "cell_type": "markdown",
   "metadata": {},
   "source": [
    "#### Gigafactory 4 Tesla Gigafactory Berlin\n",
    "\n",
    "location:\n",
    "size:\n",
    "launch date:\n",
    "Targeted production capacity:\n",
    "Target production rate:\n",
    "Products produced:\n",
    "Number of employees:\n",
    "Factory Shifts: 3\n",
    "Number of Gigapress machines: 8\n",
    "Gigapress cycle time: ~ 80 - 90 seconds\n",
    "Number of assembly lines:\n",
    "\n",
    "Unique features:"
   ]
  },
  {
   "attachments": {},
   "cell_type": "markdown",
   "metadata": {},
   "source": [
    "Deutsche Bank analyst Emmanuel Rosner:\n",
    "\n",
    "- \"Tesla's Gigafactory in Berlin is a 'game changer' for the company\"\n",
    "- new localized vehicle production in Europe\n",
    "- Establishes Tesla as a compeditor in the European market\n",
    "- Lower cost of production -> Boosts margins\n",
    "\n"
   ]
  },
  {
   "cell_type": "code",
   "execution_count": 15,
   "metadata": {},
   "outputs": [
    {
     "name": "stdout",
     "output_type": "stream",
     "text": [
      "cycle time: 80s\t\t Units produced 360 units per shift\n",
      "Units produced 5400 units per week\n",
      "Units produced 21600 units per week\n",
      "Units produced 86400 units per month\n",
      "Units produced 1036800 units per year\n",
      "cycle time: 85s\t\t Units produced 339 units per shift\n",
      "Units produced 5082 units per week\n",
      "Units produced 20329 units per week\n",
      "Units produced 81318 units per month\n",
      "Units produced 975812 units per year\n",
      "cycle time: 90s\t\t Units produced 320 units per shift\n",
      "Units produced 4800 units per week\n",
      "Units produced 19200 units per week\n",
      "Units produced 76800 units per month\n",
      "Units produced 921600 units per year\n",
      "cycle time: 95s\t\t Units produced 303 units per shift\n",
      "Units produced 4547 units per week\n",
      "Units produced 18189 units per week\n",
      "Units produced 72758 units per month\n",
      "Units produced 873095 units per year\n"
     ]
    }
   ],
   "source": [
    "# if a cycle takes [80, 85, 90, 95] seconds, how many cycles can be completed in\n",
    "# an 8 hour shift?\n",
    "\n",
    "for i in range(80, 100, 5):\n",
    "    x = 8*60*60/i\n",
    "    print(f\"cycle time: {i}s\\t\\t Units produced {(x):.0f} units per shift\")\n",
    "    # with 3 shifts per day, working 5 days per week, how many units can be\n",
    "    # produced per week?\n",
    "    print(f\"Units produced {(x*3*5):.0f} units per week\")\n",
    "    # with 8 presses, each press makes half of a unit, how many units can be\n",
    "    # produced per week?\n",
    "    print(f\"Units produced {(x*3*5*8/2):.0f} units per week\")\n",
    "    # produced per month?\n",
    "    print(f\"Units produced {(x*3*5*8/2*4):.0f} units per month\")\n",
    "    # produced per year?\n",
    "    print(f\"Units produced {(x*3*5*8/2*4*12):.0f} units per year\")\n"
   ]
  },
  {
   "attachments": {},
   "cell_type": "markdown",
   "metadata": {},
   "source": [
    "#### Gigafactory 5\n",
    "\n",
    "location:\n",
    "size:\n",
    "launch date:\n",
    "Targeted production capacity:\n",
    "Target production rate:\n",
    "Products produced:\n",
    "Number of employees:\n",
    "Number of Gigapress machines:\n",
    "Number of assembly lines:\n",
    "\n",
    "Unique features:"
   ]
  },
  {
   "cell_type": "markdown",
   "metadata": {},
   "source": []
  }
 ],
 "metadata": {
  "kernelspec": {
   "display_name": "Python 3",
   "language": "python",
   "name": "python3"
  },
  "language_info": {
   "codemirror_mode": {
    "name": "ipython",
    "version": 3
   },
   "file_extension": ".py",
   "mimetype": "text/x-python",
   "name": "python",
   "nbconvert_exporter": "python",
   "pygments_lexer": "ipython3",
   "version": "3.8.2"
  },
  "orig_nbformat": 4,
  "vscode": {
   "interpreter": {
    "hash": "82b2251fdb97b3339c044abf5deea45de7f90078e107b0ad4dedaa7c3d806099"
   }
  }
 },
 "nbformat": 4,
 "nbformat_minor": 2
}
