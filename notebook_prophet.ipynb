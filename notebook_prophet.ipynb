{
 "cells": [
  {
   "cell_type": "code",
   "execution_count": 1,
   "metadata": {},
   "outputs": [],
   "source": [
    "import numpy as np\n",
    "import pandas as pd\n",
    "import matplotlib.pyplot as plt\n",
    "import optuna\n",
    "import yfinance as yf\n",
    "import datetime as dt\n",
    "from time import sleep\n",
    "from fbprophet import Prophet\n",
    "from fbprophet.diagnostics import cross_validation, performance_metrics\n"
   ]
  },
  {
   "cell_type": "code",
   "execution_count": 2,
   "metadata": {},
   "outputs": [],
   "source": [
    "class TerryD:\n",
    "    def __init__(self, ticker):\n",
    "        self.ticker = ticker\n",
    "        self.today = dt.datetime.today().strftime('%Y%m_%d')\n",
    "        self.data = self.get_data()\n",
    "        self.model = self.prophet_model()\n",
    "        self.df = None\n",
    "        self.best_params = {}\n",
    "        self.best_result = {}\n",
    "\n",
    "    def get_data(self, period='2y', interval='1d'):\n",
    "        data = yf.download(self.ticker, period=period, interval=interval)\n",
    "        data = data.reset_index()\n",
    "        data = data.rename(columns={'Date': 'ds', 'Adj Close': 'y'})\n",
    "        data = data[['ds', 'y']]\n",
    "        df = pd.DataFrame(data)\n",
    "        return df\n",
    "\n",
    "    def prophet_model(self,):\n",
    "        model = Prophet(growth='linear')\n",
    "        params = self.best_params\n",
    "        if params:\n",
    "            model.seasonality_prior_scale = params['seasonality_prior_scale']\n",
    "            model.holidays_prior_scale = params['holidays_prior_scale']\n",
    "            model.changepoint_prior_scale = params['changepoint_prior_scale']\n",
    "        model.fit(self.data)\n",
    "        future = model.make_future_dataframe(periods=90)\n",
    "        forecast = model.predict(future)\n",
    "        return forecast\n",
    "\n",
    "    \n",
    "    def objective(self, trial):\n",
    "        params = {\n",
    "            'seasonality_prior_scale': trial.suggest_loguniform('seasonality_prior_scale', 0.01, 10.0),\n",
    "            'holidays_prior_scale': trial.suggest_loguniform('holidays_prior_scale', 0.01, 10.0),\n",
    "            'changepoint_prior_scale': trial.suggest_loguniform('changepoint_prior_scale', 0.001, 0.2)\n",
    "        }\n",
    "        forecast = self.prophet_model(self.data, params)\n",
    "        metrics = performance_metrics(forecast)\n",
    "        rmse = metrics['rmse']\n",
    "        return rmse\n",
    "\n",
    "    def optimize(self, n_trials=100):\n",
    "        study = optuna.create_study()\n",
    "        study.optimize(self.objective, n_trials=n_trials)\n",
    "        self.best_params = study.best_params\n",
    "        self.best_result = study.best_value\n",
    "\n",
    "    def plot(self):\n",
    "        self.model.plot(self.model)\n"
   ]
  },
  {
   "cell_type": "code",
   "execution_count": 3,
   "metadata": {},
   "outputs": [
    {
     "name": "stdout",
     "output_type": "stream",
     "text": [
      "[*********************100%***********************]  1 of 1 completed\n"
     ]
    },
    {
     "ename": "AttributeError",
     "evalue": "'TerryD' object has no attribute 'best_params'",
     "output_type": "error",
     "traceback": [
      "\u001b[1;31m---------------------------------------------------------------------------\u001b[0m",
      "\u001b[1;31mAttributeError\u001b[0m                            Traceback (most recent call last)",
      "Cell \u001b[1;32mIn[3], line 1\u001b[0m\n\u001b[1;32m----> 1\u001b[0m forecaster \u001b[39m=\u001b[39m TerryD(\u001b[39m\"\u001b[39;49m\u001b[39mAAPL\u001b[39;49m\u001b[39m\"\u001b[39;49m)\n\u001b[0;32m      2\u001b[0m forecaster\u001b[39m.\u001b[39moptimize()\n\u001b[0;32m      3\u001b[0m \u001b[39mprint\u001b[39m(\u001b[39m\"\u001b[39m\u001b[39mBest hyperparameters:\u001b[39m\u001b[39m\"\u001b[39m, forecaster\u001b[39m.\u001b[39mbest_params)\n",
      "Cell \u001b[1;32mIn[2], line 6\u001b[0m, in \u001b[0;36mTerryD.__init__\u001b[1;34m(self, ticker)\u001b[0m\n\u001b[0;32m      4\u001b[0m \u001b[39mself\u001b[39m\u001b[39m.\u001b[39mtoday \u001b[39m=\u001b[39m dt\u001b[39m.\u001b[39mdatetime\u001b[39m.\u001b[39mtoday()\u001b[39m.\u001b[39mstrftime(\u001b[39m'\u001b[39m\u001b[39m%\u001b[39m\u001b[39mY\u001b[39m\u001b[39m%\u001b[39m\u001b[39mm_\u001b[39m\u001b[39m%d\u001b[39;00m\u001b[39m'\u001b[39m)\n\u001b[0;32m      5\u001b[0m \u001b[39mself\u001b[39m\u001b[39m.\u001b[39mdata \u001b[39m=\u001b[39m \u001b[39mself\u001b[39m\u001b[39m.\u001b[39mget_data()\n\u001b[1;32m----> 6\u001b[0m \u001b[39mself\u001b[39m\u001b[39m.\u001b[39mmodel \u001b[39m=\u001b[39m \u001b[39mself\u001b[39;49m\u001b[39m.\u001b[39;49mprophet_model()\n\u001b[0;32m      7\u001b[0m \u001b[39mself\u001b[39m\u001b[39m.\u001b[39mdf \u001b[39m=\u001b[39m \u001b[39mNone\u001b[39;00m\n\u001b[0;32m      8\u001b[0m \u001b[39mself\u001b[39m\u001b[39m.\u001b[39mbest_params \u001b[39m=\u001b[39m {}\n",
      "Cell \u001b[1;32mIn[2], line 21\u001b[0m, in \u001b[0;36mTerryD.prophet_model\u001b[1;34m(self)\u001b[0m\n\u001b[0;32m     19\u001b[0m \u001b[39mdef\u001b[39;00m \u001b[39mprophet_model\u001b[39m(\u001b[39mself\u001b[39m,):\n\u001b[0;32m     20\u001b[0m     model \u001b[39m=\u001b[39m Prophet(growth\u001b[39m=\u001b[39m\u001b[39m'\u001b[39m\u001b[39mlinear\u001b[39m\u001b[39m'\u001b[39m)\n\u001b[1;32m---> 21\u001b[0m     params \u001b[39m=\u001b[39m \u001b[39mself\u001b[39;49m\u001b[39m.\u001b[39;49mbest_params\n\u001b[0;32m     22\u001b[0m     \u001b[39mif\u001b[39;00m params:\n\u001b[0;32m     23\u001b[0m         model\u001b[39m.\u001b[39mseasonality_prior_scale \u001b[39m=\u001b[39m params[\u001b[39m'\u001b[39m\u001b[39mseasonality_prior_scale\u001b[39m\u001b[39m'\u001b[39m]\n",
      "\u001b[1;31mAttributeError\u001b[0m: 'TerryD' object has no attribute 'best_params'"
     ]
    }
   ],
   "source": [
    "forecaster = TerryD(\"AAPL\")\n",
    "forecaster.optimize()\n",
    "print(\"Best hyperparameters:\", forecaster.best_params)\n",
    "print(\"Best result (RMSE):\", forecaster.best_result)\n"
   ]
  },
  {
   "cell_type": "code",
   "execution_count": null,
   "metadata": {},
   "outputs": [],
   "source": []
  }
 ],
 "metadata": {
  "kernelspec": {
   "display_name": "base",
   "language": "python",
   "name": "python3"
  },
  "language_info": {
   "codemirror_mode": {
    "name": "ipython",
    "version": 3
   },
   "file_extension": ".py",
   "mimetype": "text/x-python",
   "name": "python",
   "nbconvert_exporter": "python",
   "pygments_lexer": "ipython3",
   "version": "3.8.15"
  },
  "orig_nbformat": 4,
  "vscode": {
   "interpreter": {
    "hash": "d5f483b18828d96ccc546c1798c82b7647d044a18d38c4ebbbd467c365e433ca"
   }
  }
 },
 "nbformat": 4,
 "nbformat_minor": 2
}
